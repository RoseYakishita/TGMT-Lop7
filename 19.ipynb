{
 "cells": [
  {
   "cell_type": "code",
   "execution_count": 2,
   "id": "5194d9e2-2cae-4190-907a-ee8f150e0db1",
   "metadata": {},
   "outputs": [
    {
     "name": "stdout",
     "output_type": "stream",
     "text": [
      "Collecting opencv-python\n",
      "  Downloading opencv_python-4.10.0.84-cp37-abi3-win_amd64.whl.metadata (20 kB)\n",
      "Requirement already satisfied: numpy>=1.21.2 in d:\\software\\anaconda\\lib\\site-packages (from opencv-python) (1.26.4)\n",
      "Downloading opencv_python-4.10.0.84-cp37-abi3-win_amd64.whl (38.8 MB)\n",
      "   ---------------------------------------- 0.0/38.8 MB ? eta -:--:--\n",
      "   ---------------------------------------- 0.0/38.8 MB 1.4 MB/s eta 0:00:29\n",
      "   ---------------------------------------- 0.1/38.8 MB 1.3 MB/s eta 0:00:30\n",
      "   ---------------------------------------- 0.2/38.8 MB 2.1 MB/s eta 0:00:19\n",
      "   ---------------------------------------- 0.4/38.8 MB 2.8 MB/s eta 0:00:14\n",
      "    --------------------------------------- 0.8/38.8 MB 4.2 MB/s eta 0:00:10\n",
      "   - -------------------------------------- 1.5/38.8 MB 7.0 MB/s eta 0:00:06\n",
      "   -- ------------------------------------- 2.7/38.8 MB 10.1 MB/s eta 0:00:04\n",
      "   ---- ----------------------------------- 4.3/38.8 MB 14.6 MB/s eta 0:00:03\n",
      "   ------ --------------------------------- 6.4/38.8 MB 18.7 MB/s eta 0:00:02\n",
      "   ------ --------------------------------- 6.4/38.8 MB 18.7 MB/s eta 0:00:02\n",
      "   ------ --------------------------------- 6.5/38.8 MB 16.0 MB/s eta 0:00:03\n",
      "   ------ --------------------------------- 6.5/38.8 MB 16.0 MB/s eta 0:00:03\n",
      "   ---------- ----------------------------- 10.2/38.8 MB 20.5 MB/s eta 0:00:02\n",
      "   ----------- ---------------------------- 11.3/38.8 MB 31.2 MB/s eta 0:00:01\n",
      "   ------------ --------------------------- 12.3/38.8 MB 34.4 MB/s eta 0:00:01\n",
      "   ------------ --------------------------- 12.3/38.8 MB 34.4 MB/s eta 0:00:01\n",
      "   ------------- -------------------------- 13.1/38.8 MB 28.4 MB/s eta 0:00:01\n",
      "   ------------- -------------------------- 13.1/38.8 MB 28.4 MB/s eta 0:00:01\n",
      "   ---------------- ----------------------- 15.9/38.8 MB 27.3 MB/s eta 0:00:01\n",
      "   ------------------ --------------------- 18.1/38.8 MB 36.4 MB/s eta 0:00:01\n",
      "   ------------------ --------------------- 18.3/38.8 MB 36.4 MB/s eta 0:00:01\n",
      "   --------------------- ------------------ 20.6/38.8 MB 29.8 MB/s eta 0:00:01\n",
      "   ----------------------- ---------------- 22.7/38.8 MB 40.9 MB/s eta 0:00:01\n",
      "   ------------------------ --------------- 23.3/38.8 MB 34.4 MB/s eta 0:00:01\n",
      "   ------------------------- -------------- 24.6/38.8 MB 38.6 MB/s eta 0:00:01\n",
      "   -------------------------- ------------- 25.4/38.8 MB 34.4 MB/s eta 0:00:01\n",
      "   -------------------------- ------------- 25.6/38.8 MB 29.7 MB/s eta 0:00:01\n",
      "   --------------------------- ------------ 26.8/38.8 MB 32.8 MB/s eta 0:00:01\n",
      "   ---------------------------- ----------- 27.7/38.8 MB 29.7 MB/s eta 0:00:01\n",
      "   ----------------------------- ---------- 28.2/38.8 MB 25.1 MB/s eta 0:00:01\n",
      "   ----------------------------- ---------- 29.0/38.8 MB 27.3 MB/s eta 0:00:01\n",
      "   ------------------------------ --------- 29.9/38.8 MB 25.1 MB/s eta 0:00:01\n",
      "   ------------------------------- -------- 30.3/38.8 MB 22.5 MB/s eta 0:00:01\n",
      "   ------------------------------- -------- 30.7/38.8 MB 21.1 MB/s eta 0:00:01\n",
      "   -------------------------------- ------- 31.1/38.8 MB 20.5 MB/s eta 0:00:01\n",
      "   -------------------------------- ------- 31.5/38.8 MB 19.3 MB/s eta 0:00:01\n",
      "   -------------------------------- ------- 31.8/38.8 MB 17.7 MB/s eta 0:00:01\n",
      "   --------------------------------- ------ 32.2/38.8 MB 16.8 MB/s eta 0:00:01\n",
      "   --------------------------------- ------ 32.6/38.8 MB 15.6 MB/s eta 0:00:01\n",
      "   --------------------------------- ------ 33.0/38.8 MB 14.9 MB/s eta 0:00:01\n",
      "   ---------------------------------- ----- 33.4/38.8 MB 14.6 MB/s eta 0:00:01\n",
      "   ---------------------------------- ----- 33.8/38.8 MB 14.2 MB/s eta 0:00:01\n",
      "   ----------------------------------- ---- 34.3/38.8 MB 13.4 MB/s eta 0:00:01\n",
      "   ----------------------------------- ---- 34.6/38.8 MB 13.4 MB/s eta 0:00:01\n",
      "   ------------------------------------ --- 35.0/38.8 MB 12.6 MB/s eta 0:00:01\n",
      "   ------------------------------------ --- 35.4/38.8 MB 12.4 MB/s eta 0:00:01\n",
      "   ------------------------------------ --- 35.8/38.8 MB 12.6 MB/s eta 0:00:01\n",
      "   ------------------------------------- -- 36.2/38.8 MB 12.4 MB/s eta 0:00:01\n",
      "   ------------------------------------- -- 36.6/38.8 MB 11.7 MB/s eta 0:00:01\n",
      "   -------------------------------------- - 37.0/38.8 MB 11.1 MB/s eta 0:00:01\n",
      "   -------------------------------------- - 37.4/38.8 MB 11.3 MB/s eta 0:00:01\n",
      "   -------------------------------------- - 37.9/38.8 MB 10.7 MB/s eta 0:00:01\n",
      "   ---------------------------------------  38.2/38.8 MB 10.9 MB/s eta 0:00:01\n",
      "   ---------------------------------------  38.6/38.8 MB 10.6 MB/s eta 0:00:01\n",
      "   ---------------------------------------  38.8/38.8 MB 10.6 MB/s eta 0:00:01\n",
      "   ---------------------------------------- 38.8/38.8 MB 9.9 MB/s eta 0:00:00\n",
      "Installing collected packages: opencv-python\n",
      "Successfully installed opencv-python-4.10.0.84\n",
      "Note: you may need to restart the kernel to use updated packages.\n"
     ]
    }
   ],
   "source": [
    "#pip install opencv-python"
   ]
  },
  {
   "cell_type": "code",
   "execution_count": 6,
   "id": "33be8f59-6bba-4c34-9eae-a041385ac8f9",
   "metadata": {},
   "outputs": [],
   "source": [
    "def display(title, img):\n",
    "    cv2.imshow(title, img)\n",
    "    #thời gian chờ\n",
    "    cv2.waitKey(0)\n",
    "    #Đóng window\n",
    "    cv2.destroyWindow(title)"
   ]
  },
  {
   "cell_type": "code",
   "execution_count": 8,
   "id": "db2ccec7-9ae7-4488-9ada-ccbbdaf38b79",
   "metadata": {},
   "outputs": [],
   "source": [
    "import cv2"
   ]
  },
  {
   "cell_type": "code",
   "execution_count": 23,
   "id": "e9facafe-7a1c-41f2-b858-7ff908ebe557",
   "metadata": {},
   "outputs": [
    {
     "name": "stdout",
     "output_type": "stream",
     "text": [
      "Kazuki [[[242 242 242]\n",
      "  [242 242 242]\n",
      "  [242 242 242]\n",
      "  ...\n",
      "  [242 242 242]\n",
      "  [242 242 242]\n",
      "  [242 242 242]]\n",
      "\n",
      " [[242 242 242]\n",
      "  [242 242 242]\n",
      "  [242 242 242]\n",
      "  ...\n",
      "  [242 242 242]\n",
      "  [242 242 242]\n",
      "  [242 242 242]]\n",
      "\n",
      " [[242 242 242]\n",
      "  [242 242 242]\n",
      "  [242 242 242]\n",
      "  ...\n",
      "  [242 242 242]\n",
      "  [242 242 242]\n",
      "  [242 242 242]]\n",
      "\n",
      " ...\n",
      "\n",
      " [[238 244 239]\n",
      "  [238 244 239]\n",
      "  [238 244 239]\n",
      "  ...\n",
      "  [242 242 242]\n",
      "  [242 242 242]\n",
      "  [242 242 242]]\n",
      "\n",
      " [[240 243 241]\n",
      "  [238 244 239]\n",
      "  [240 243 241]\n",
      "  ...\n",
      "  [242 242 242]\n",
      "  [242 242 242]\n",
      "  [242 242 242]]\n",
      "\n",
      " [[242 242 242]\n",
      "  [240 243 241]\n",
      "  [242 242 242]\n",
      "  ...\n",
      "  [242 242 242]\n",
      "  [242 242 242]\n",
      "  [242 242 242]]]\n"
     ]
    }
   ],
   "source": [
    "#Đọc ảnh (nhan TAB de nhin autocomplete)\n",
    "path= 'C:/Users/Anson/Documents/TGMT-Lop7/img/animal.jpg'\n",
    "img = cv2.imread(path)\n",
    "# In thông tin của ảnh\n",
    "print(\"Kazuki\", img)"
   ]
  },
  {
   "cell_type": "code",
   "execution_count": 17,
   "id": "4e35e09a-d395-4d2f-b525-0e5e9eeafbdb",
   "metadata": {},
   "outputs": [
    {
     "name": "stdout",
     "output_type": "stream",
     "text": [
      "(513, 530, 3)\n",
      "513\n",
      "530\n",
      "3\n"
     ]
    }
   ],
   "source": [
    "# Lấy kích thước\n",
    "print(img.shape)\n",
    "x, y, z = img.shape\n",
    "print(x)\n",
    "print(y)\n",
    "print(z)"
   ]
  },
  {
   "cell_type": "code",
   "execution_count": 27,
   "id": "8b6220ae-c7c7-4168-ace9-b8e7ec8baa89",
   "metadata": {},
   "outputs": [],
   "source": [
    "# Hiển thị ảnh\n",
    "cv2.imshow('Gia Suc', img)\n",
    "# Chờ một khoảng thời gian\n",
    "cv2.waitKey(5000)\n",
    "# Đóng window\n",
    "cv2.destroyWindow('Gia Suc')"
   ]
  },
  {
   "cell_type": "code",
   "execution_count": 31,
   "id": "38be5e39-6a8b-4471-ae1e-9bbc68243527",
   "metadata": {},
   "outputs": [],
   "source": [
    "# Tách màu\n",
    "b, g, r = cv2.split(img)\n",
    "cv2.imshow('Gia Suc', img)\n",
    "cv2.imshow('Red', r)\n",
    "cv2.imshow('Green', g)\n",
    "cv2.imshow('Blue', b)\n",
    "\n",
    "# Chờ một khoảng thời gian\n",
    "cv2.waitKey(5000)\n",
    "# Đóng window\n",
    "cv2.destroyAllWindows()"
   ]
  },
  {
   "cell_type": "code",
   "execution_count": 35,
   "id": "40e8024a-9abc-4cf5-b473-5100f6299d28",
   "metadata": {},
   "outputs": [],
   "source": [
    "gray_img = cv2.cvtColor(img, cv2.COLOR_BGR2GRAY)\n",
    "img_2 = cv2.cvtColor(img, cv2.COLOR_BGR2RGB)\n",
    "cv2.imshow('Gia Suc', img)\n",
    "cv2.imshow('gray_img', gray_img)\n",
    "cv2.imshow('img_2', img_2)\n",
    "# Chờ một khoảng thời gian\n",
    "cv2.waitKey(5000)\n",
    "# Đóng window\n",
    "cv2.destroyAllWindows()"
   ]
  },
  {
   "cell_type": "code",
   "execution_count": 40,
   "id": "835a2db6-ff68-4eeb-bb5d-1c0f6597f790",
   "metadata": {},
   "outputs": [
    {
     "ename": "error",
     "evalue": "OpenCV(4.10.0) D:\\a\\opencv-python\\opencv-python\\opencv\\modules\\highgui\\src\\window_w32.cpp:1261: error: (-27:Null pointer) NULL window: 'Gia Suc-2' in function 'cvDestroyWindow'\n",
     "output_type": "error",
     "traceback": [
      "\u001b[1;31m---------------------------------------------------------------------------\u001b[0m",
      "\u001b[1;31merror\u001b[0m                                     Traceback (most recent call last)",
      "Cell \u001b[1;32mIn[40], line 19\u001b[0m\n\u001b[0;32m     17\u001b[0m \u001b[38;5;66;03m# Hiển thị\u001b[39;00m\n\u001b[0;32m     18\u001b[0m display(\u001b[38;5;124m'\u001b[39m\u001b[38;5;124mGia Suc\u001b[39m\u001b[38;5;124m'\u001b[39m, img)\n\u001b[1;32m---> 19\u001b[0m display(\u001b[38;5;124m'\u001b[39m\u001b[38;5;124mGia Suc-2\u001b[39m\u001b[38;5;124m'\u001b[39m, img2)\n",
      "Cell \u001b[1;32mIn[6], line 6\u001b[0m, in \u001b[0;36mdisplay\u001b[1;34m(title, img)\u001b[0m\n\u001b[0;32m      4\u001b[0m cv2\u001b[38;5;241m.\u001b[39mwaitKey(\u001b[38;5;241m0\u001b[39m)\n\u001b[0;32m      5\u001b[0m \u001b[38;5;66;03m#Đóng window\u001b[39;00m\n\u001b[1;32m----> 6\u001b[0m cv2\u001b[38;5;241m.\u001b[39mdestroyWindow(title)\n",
      "\u001b[1;31merror\u001b[0m: OpenCV(4.10.0) D:\\a\\opencv-python\\opencv-python\\opencv\\modules\\highgui\\src\\window_w32.cpp:1261: error: (-27:Null pointer) NULL window: 'Gia Suc-2' in function 'cvDestroyWindow'\n"
     ]
    }
   ],
   "source": [
    "# Thay đổi thông số của điểm ảnh\n",
    "height, width, z = img.shape\n",
    "quater_h = height/2\n",
    "quater_w = width/2\n",
    "\n",
    "# geen color\n",
    "green_color = (0,255,0)\n",
    "\n",
    "# copy ảnh\n",
    "img2 = img.copy()\n",
    "\n",
    "# thay đổi màu của góc 1/4 bên trái trên\n",
    "\n",
    "for y in range(int(quater_h)):\n",
    "    for x in range(int(quater_w)):\n",
    "        img2[y, x] = green_color\n",
    "# Hiển thị\n",
    "display('Gia Suc', img)\n",
    "display('Gia Suc-2', img2)"
   ]
  }
 ],
 "metadata": {
  "kernelspec": {
   "display_name": "Python 3 (ipykernel)",
   "language": "python",
   "name": "python3"
  },
  "language_info": {
   "codemirror_mode": {
    "name": "ipython",
    "version": 3
   },
   "file_extension": ".py",
   "mimetype": "text/x-python",
   "name": "python",
   "nbconvert_exporter": "python",
   "pygments_lexer": "ipython3",
   "version": "3.12.4"
  }
 },
 "nbformat": 4,
 "nbformat_minor": 5
}
