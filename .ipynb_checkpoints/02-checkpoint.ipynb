{
 "cells": [
  {
   "cell_type": "code",
   "execution_count": 1,
   "id": "fadf86c0-30f8-47c7-89b7-b9841b684d60",
   "metadata": {},
   "outputs": [
    {
     "name": "stdout",
     "output_type": "stream",
     "text": [
      "Requirement already satisfied: pillow in d:\\software\\anaconda\\lib\\site-packages (10.3.0)\n"
     ]
    }
   ],
   "source": [
    "!pip install pillow"
   ]
  },
  {
   "cell_type": "code",
   "execution_count": 3,
   "id": "553e9d24-8d02-4552-a1f6-987a26fc37b1",
   "metadata": {},
   "outputs": [],
   "source": [
    "from PIL import Image"
   ]
  },
  {
   "cell_type": "code",
   "execution_count": 41,
   "id": "5e5519af-96b3-42de-a275-0a681e4b5e1b",
   "metadata": {},
   "outputs": [],
   "source": [
    "dir = 'C:/Users/Anson/OneDrive/Documents/Python Scripts/kazuki06.jpg'"
   ]
  },
  {
   "cell_type": "code",
   "execution_count": 49,
   "id": "26a46572-e69f-4fe2-8fca-eeab71b5c240",
   "metadata": {},
   "outputs": [
    {
     "name": "stdout",
     "output_type": "stream",
     "text": [
      "C:/Users/Anson/OneDrive/Documents/Python Scripts/kazuki06.jpgkazuki06.jpg\n"
     ]
    }
   ],
   "source": [
    "image_path = dir +'kazuki06.jpg'\n",
    "print(image_path)"
   ]
  },
  {
   "cell_type": "code",
   "execution_count": 53,
   "id": "7868105c-826d-4c4e-9872-ccc715e19942",
   "metadata": {},
   "outputs": [
    {
     "ename": "FileNotFoundError",
     "evalue": "[Errno 2] No such file or directory: 'C:\\\\Users\\\\Anson\\\\OneDrive\\\\Documents\\\\Python Scripts\\\\kazuki06.jpgkazuki06.jpg'",
     "output_type": "error",
     "traceback": [
      "\u001b[1;31m---------------------------------------------------------------------------\u001b[0m",
      "\u001b[1;31mFileNotFoundError\u001b[0m                         Traceback (most recent call last)",
      "Cell \u001b[1;32mIn[53], line 1\u001b[0m\n\u001b[1;32m----> 1\u001b[0m img01 \u001b[38;5;241m=\u001b[39m Image\u001b[38;5;241m.\u001b[39mopen(image_path)\n",
      "File \u001b[1;32mD:\\Software\\Anaconda\\Lib\\site-packages\\PIL\\Image.py:3277\u001b[0m, in \u001b[0;36mopen\u001b[1;34m(fp, mode, formats)\u001b[0m\n\u001b[0;32m   3274\u001b[0m     filename \u001b[38;5;241m=\u001b[39m os\u001b[38;5;241m.\u001b[39mpath\u001b[38;5;241m.\u001b[39mrealpath(os\u001b[38;5;241m.\u001b[39mfspath(fp))\n\u001b[0;32m   3276\u001b[0m \u001b[38;5;28;01mif\u001b[39;00m filename:\n\u001b[1;32m-> 3277\u001b[0m     fp \u001b[38;5;241m=\u001b[39m builtins\u001b[38;5;241m.\u001b[39mopen(filename, \u001b[38;5;124m\"\u001b[39m\u001b[38;5;124mrb\u001b[39m\u001b[38;5;124m\"\u001b[39m)\n\u001b[0;32m   3278\u001b[0m     exclusive_fp \u001b[38;5;241m=\u001b[39m \u001b[38;5;28;01mTrue\u001b[39;00m\n\u001b[0;32m   3280\u001b[0m \u001b[38;5;28;01mtry\u001b[39;00m:\n",
      "\u001b[1;31mFileNotFoundError\u001b[0m: [Errno 2] No such file or directory: 'C:\\\\Users\\\\Anson\\\\OneDrive\\\\Documents\\\\Python Scripts\\\\kazuki06.jpgkazuki06.jpg'"
     ]
    }
   ],
   "source": [
    "img01 = Image.open(image_path)"
   ]
  },
  {
   "cell_type": "code",
   "execution_count": 15,
   "id": "da560661-b068-453a-9e0c-83a65fac886f",
   "metadata": {},
   "outputs": [
    {
     "ename": "NameError",
     "evalue": "name 'img01' is not defined",
     "output_type": "error",
     "traceback": [
      "\u001b[1;31m---------------------------------------------------------------------------\u001b[0m",
      "\u001b[1;31mNameError\u001b[0m                                 Traceback (most recent call last)",
      "Cell \u001b[1;32mIn[15], line 1\u001b[0m\n\u001b[1;32m----> 1\u001b[0m display(img01)\n",
      "\u001b[1;31mNameError\u001b[0m: name 'img01' is not defined"
     ]
    }
   ],
   "source": [
    "display(img01)"
   ]
  },
  {
   "cell_type": "code",
   "execution_count": null,
   "id": "d3e71b22-2b0e-4f70-80f0-591d1aa16c8a",
   "metadata": {},
   "outputs": [],
   "source": []
  }
 ],
 "metadata": {
  "kernelspec": {
   "display_name": "Python 3 (ipykernel)",
   "language": "python",
   "name": "python3"
  },
  "language_info": {
   "codemirror_mode": {
    "name": "ipython",
    "version": 3
   },
   "file_extension": ".py",
   "mimetype": "text/x-python",
   "name": "python",
   "nbconvert_exporter": "python",
   "pygments_lexer": "ipython3",
   "version": "3.12.4"
  }
 },
 "nbformat": 4,
 "nbformat_minor": 5
}
